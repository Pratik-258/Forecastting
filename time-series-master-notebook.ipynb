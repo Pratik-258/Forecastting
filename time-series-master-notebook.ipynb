{
 "cells": [
  {
   "cell_type": "code",
   "execution_count": null,
   "id": "055571ff",
   "metadata": {},
   "outputs": [],
   "source": [
    "import numpy as np\n",
    "import pandas as pd\n",
    "import scipy.stats as sp\n",
    "import seaborn as sns\n",
    "\n",
    "import matplotlib.pyplot as plt\n",
    "from pandas.plotting import register_matplotlib_converters\n",
    "from pandas.plotting import autocorrelation_plot\n",
    "\n",
    "import statsmodels.api as sm\n",
    "from statsmodels.tsa.seasonal import seasonal_decompose\n",
    "from statsmodels.tsa.stattools import acf\n",
    "from statsmodels.tsa.stattools import pacf\n",
    "\n",
    "from mytsfunctions import *"
   ]
  },
  {
   "cell_type": "code",
   "execution_count": null,
   "id": "578ef696",
   "metadata": {},
   "outputs": [],
   "source": [
    "my_create_large_images()"
   ]
  },
  {
   "cell_type": "code",
   "execution_count": null,
   "id": "ab4cd772",
   "metadata": {},
   "outputs": [],
   "source": [
    "df0 = pd.read_csv(\"us_emp_retail.csv\")\n",
    "#df0 = pd.read_csv(\"../case-study/egypt_exports_gdp.csv\")\n",
    "df0.head()"
   ]
  },
  {
   "cell_type": "code",
   "execution_count": null,
   "id": "944c90e2",
   "metadata": {},
   "outputs": [],
   "source": [
    "df =  df0['Employed']\n",
    "#df =  df0['Exports_percent_GDP']\n",
    "df.head(5)"
   ]
  },
  {
   "cell_type": "code",
   "execution_count": null,
   "id": "195a6d7f",
   "metadata": {},
   "outputs": [],
   "source": [
    "df.plot()"
   ]
  },
  {
   "cell_type": "code",
   "execution_count": null,
   "id": "e9699444",
   "metadata": {},
   "outputs": [],
   "source": [
    "sm.tsa.stattools.adfuller(df)"
   ]
  },
  {
   "cell_type": "code",
   "execution_count": null,
   "id": "13e8ef09",
   "metadata": {},
   "outputs": [],
   "source": [
    "sm.tsa.stattools.kpss(df)"
   ]
  },
  {
   "cell_type": "code",
   "execution_count": null,
   "id": "22e81ed3",
   "metadata": {},
   "outputs": [],
   "source": [
    "#tsr = seasonal_decompose(df,model='additive',period=12)\n",
    "#tsr.plot()"
   ]
  },
  {
   "cell_type": "code",
   "execution_count": null,
   "id": "250954ce",
   "metadata": {},
   "outputs": [],
   "source": [
    "# Creating STL decomposition"
   ]
  },
  {
   "cell_type": "code",
   "execution_count": null,
   "id": "9cf3d65f",
   "metadata": {},
   "outputs": [],
   "source": [
    "from statsmodels.tsa.seasonal import STL\n",
    "stl = STL(df, period=12)"
   ]
  },
  {
   "cell_type": "code",
   "execution_count": null,
   "id": "abb5e7e6",
   "metadata": {},
   "outputs": [],
   "source": [
    "res = stl.fit()\n",
    "fig = res.plot()"
   ]
  },
  {
   "cell_type": "code",
   "execution_count": null,
   "id": "ea3807e1",
   "metadata": {},
   "outputs": [],
   "source": [
    "fig = plt.figure(figsize=(14, 8))\n",
    "ax1 = fig.add_subplot(211)\n",
    "fig = sm.graphics.tsa.plot_acf(df, lags=50, ax=ax1)\n",
    "\n",
    "ax2 = fig.add_subplot(212)\n",
    "fig = sm.graphics.tsa.plot_pacf(df, lags=50, ax=ax2)"
   ]
  },
  {
   "cell_type": "code",
   "execution_count": null,
   "id": "1c0932b0",
   "metadata": {},
   "outputs": [],
   "source": [
    "# detrend, if required, and plot\n",
    "# dtrend = difference(df,1)\n",
    "# #dtrend = df\n",
    "# plt.plot(dtrend)"
   ]
  },
  {
   "cell_type": "code",
   "execution_count": null,
   "id": "0d139234",
   "metadata": {},
   "outputs": [],
   "source": [
    "diff1 = difference(df,1)\n",
    "diff1_diff12 = difference(diff1,12)"
   ]
  },
  {
   "cell_type": "code",
   "execution_count": null,
   "id": "6b6714da",
   "metadata": {},
   "outputs": [],
   "source": [
    "plt.plot(diff1)"
   ]
  },
  {
   "cell_type": "code",
   "execution_count": null,
   "id": "42ab19a0",
   "metadata": {},
   "outputs": [],
   "source": [
    "plt.plot(diff1_diff12)"
   ]
  },
  {
   "cell_type": "code",
   "execution_count": null,
   "id": "f002b390",
   "metadata": {},
   "outputs": [],
   "source": [
    "fig = plt.figure(figsize=(14, 8))\n",
    "ax1 = fig.add_subplot(211)\n",
    "fig = sm.graphics.tsa.plot_acf(diff1_diff12, lags=14, ax=ax1)\n",
    "ax2 = fig.add_subplot(212)\n",
    "fig = sm.graphics.tsa.plot_pacf(diff1_diff12, lags=14, ax=ax2)"
   ]
  },
  {
   "cell_type": "code",
   "execution_count": null,
   "id": "aaa3971f",
   "metadata": {},
   "outputs": [],
   "source": [
    "#sm.tsa.stattools.arma_order_select_ic(df)"
   ]
  },
  {
   "cell_type": "code",
   "execution_count": null,
   "id": "69d68cc5",
   "metadata": {},
   "outputs": [],
   "source": [
    "# First de-trend, then de-seasonalize? Or first de-seasonalize, then de-trend?"
   ]
  },
  {
   "cell_type": "code",
   "execution_count": null,
   "id": "7754cb84",
   "metadata": {},
   "outputs": [],
   "source": [
    "tdf = df\n",
    "tdf_diff1 = difference(tdf,1)\n",
    "tdf_diff12 = difference(tdf,12)\n",
    "\n",
    "tdf_diff1_diff12 = difference(tdf_diff1,12)\n",
    "tdf_diff12_diff1 = difference(tdf_diff12,1)"
   ]
  },
  {
   "cell_type": "code",
   "execution_count": null,
   "id": "09f4dc39",
   "metadata": {},
   "outputs": [],
   "source": [
    "#plt.plot(tdf_diff12)"
   ]
  },
  {
   "cell_type": "code",
   "execution_count": null,
   "id": "eb70e60e",
   "metadata": {},
   "outputs": [],
   "source": [
    "fig = plt.figure(figsize=(14, 8))\n",
    "fig.add_subplot(211)\n",
    "plt.plot(tdf_diff1_diff12)\n",
    "\n",
    "fig.add_subplot(212)\n",
    "plt.plot(tdf_diff12_diff1)"
   ]
  },
  {
   "cell_type": "code",
   "execution_count": null,
   "id": "c92077e4",
   "metadata": {},
   "outputs": [],
   "source": [
    "sm.tsa.stattools.adfuller(tdf_diff1_diff12)"
   ]
  },
  {
   "cell_type": "code",
   "execution_count": null,
   "id": "47004a9d",
   "metadata": {},
   "outputs": [],
   "source": [
    "# Check the statistical behaviour of original and stationary data (mean, sd)\n",
    "len(tdf)"
   ]
  },
  {
   "cell_type": "code",
   "execution_count": null,
   "id": "9131fb1a",
   "metadata": {},
   "outputs": [],
   "source": [
    "# for i in [0,50,100,150,200]:\n",
    "#     sidx = i\n",
    "#     eidx = i+50\n",
    "#     print(\"******\")\n",
    "#     print(f\"Original Data: Mean : {np.mean(tdf[sidx:eidx])}, SD : {np.std(tdf[sidx:eidx])}\")\n",
    "#     #print(f\"Diff data :    Mean : {np.mean(tdf_diff1[sidx:eidx])}, SD : {np.std(tdf_diff1[sidx:eidx])}\")\n",
    "#     print(f\"Diff data :    Mean : {np.mean(tdf_diff1_diff12[sidx:eidx])}, SD : {np.std(tdf_diff1_diff12[sidx:eidx])}\")"
   ]
  },
  {
   "cell_type": "code",
   "execution_count": null,
   "id": "0542b8bb",
   "metadata": {},
   "outputs": [],
   "source": [
    "#runMyAR1(tdf)"
   ]
  },
  {
   "cell_type": "code",
   "execution_count": null,
   "id": "e9a5fb62",
   "metadata": {},
   "outputs": [],
   "source": [
    "#runMyAR1(tdf_diff1)\n",
    "#runMyAR1(tdf_diff1_diff12)"
   ]
  },
  {
   "cell_type": "code",
   "execution_count": null,
   "id": "dba424c0",
   "metadata": {},
   "outputs": [],
   "source": [
    "# Perform ARIMA"
   ]
  },
  {
   "cell_type": "code",
   "execution_count": null,
   "id": "a1436088",
   "metadata": {},
   "outputs": [],
   "source": [
    "my_model = sm.tsa.arima.ARIMA(df,order=(3,1,4),seasonal_order=(0,1,0,12))\n",
    "#my_model = sm.tsa.arima.ARIMA(df,order=(3,1,0))\n",
    "my_model_res = my_model.fit()\n",
    "print(my_model_res.summary())"
   ]
  },
  {
   "cell_type": "code",
   "execution_count": null,
   "id": "db76f85e",
   "metadata": {},
   "outputs": [],
   "source": [
    "pred = my_model_res.plot_diagnostics()"
   ]
  },
  {
   "cell_type": "code",
   "execution_count": null,
   "id": "af1778e5",
   "metadata": {},
   "outputs": [],
   "source": [
    "tforecast =  my_model_res.forecast(12)"
   ]
  },
  {
   "cell_type": "code",
   "execution_count": null,
   "id": "5661780c",
   "metadata": {},
   "outputs": [],
   "source": [
    "plt.plot(tdf)\n",
    "plt.plot(tforecast)"
   ]
  },
  {
   "cell_type": "code",
   "execution_count": null,
   "id": "e2854046",
   "metadata": {},
   "outputs": [],
   "source": [
    "tpredict =  my_model_res.predict(40)\n",
    "#plt.plot(tpredict)"
   ]
  },
  {
   "cell_type": "code",
   "execution_count": null,
   "id": "c33c961b",
   "metadata": {},
   "outputs": [],
   "source": [
    "plt.plot(tdf)\n",
    "plt.plot(tpredict)\n",
    "plt.plot(tforecast)"
   ]
  },
  {
   "cell_type": "code",
   "execution_count": null,
   "id": "f3446581",
   "metadata": {},
   "outputs": [],
   "source": [
    "tforecast2 = my_model_res.get_forecast(12)\n",
    "confint = np.array(tforecast2.conf_int())"
   ]
  },
  {
   "cell_type": "code",
   "execution_count": null,
   "id": "0e6ac248",
   "metadata": {},
   "outputs": [],
   "source": [
    "fig,ax = plt.subplots(figsize=(16,12))\n",
    "ax.plot(df.index, df, label='data')\n",
    "ax.plot(tforecast2.predicted_mean.index, tforecast2.predicted_mean, label='forecast')\n",
    "ax.fill_between(tforecast2.predicted_mean.index, confint[:,0], confint[:,1],color='gray',alpha=0.3)\n",
    "ax.legend()"
   ]
  },
  {
   "cell_type": "code",
   "execution_count": null,
   "id": "b1648fb0",
   "metadata": {},
   "outputs": [],
   "source": []
  }
 ],
 "metadata": {
  "kernelspec": {
   "display_name": "Python 3 (ipykernel)",
   "language": "python",
   "name": "python3"
  },
  "language_info": {
   "codemirror_mode": {
    "name": "ipython",
    "version": 3
   },
   "file_extension": ".py",
   "mimetype": "text/x-python",
   "name": "python",
   "nbconvert_exporter": "python",
   "pygments_lexer": "ipython3",
   "version": "3.9.12"
  }
 },
 "nbformat": 4,
 "nbformat_minor": 5
}
